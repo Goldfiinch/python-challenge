{
 "cells": [
  {
   "cell_type": "code",
   "execution_count": 1,
   "id": "776840b7",
   "metadata": {},
   "outputs": [],
   "source": [
    "import pandas as pd"
   ]
  },
  {
   "cell_type": "code",
   "execution_count": 2,
   "id": "88f89018",
   "metadata": {},
   "outputs": [],
   "source": [
    "from pathlib import Path"
   ]
  },
  {
   "cell_type": "code",
   "execution_count": 5,
   "id": "a38fa2e6",
   "metadata": {},
   "outputs": [],
   "source": [
    "#import data from Resources folder\n",
    "election_data = Path(\"Resources/election_data.csv\")"
   ]
  },
  {
   "cell_type": "code",
   "execution_count": 6,
   "id": "348e2499",
   "metadata": {},
   "outputs": [],
   "source": [
    "ed_df = pd.read_csv(election_data)"
   ]
  },
  {
   "cell_type": "code",
   "execution_count": 8,
   "id": "925cd62a",
   "metadata": {},
   "outputs": [],
   "source": [
    "#creating a data frame for Ballot ID column\n",
    "ed_ID = ed_df['Ballot ID']"
   ]
  },
  {
   "cell_type": "code",
   "execution_count": 9,
   "id": "33b1180a",
   "metadata": {},
   "outputs": [
    {
     "data": {
      "text/plain": [
       "369711"
      ]
     },
     "execution_count": 9,
     "metadata": {},
     "output_type": "execute_result"
    }
   ],
   "source": [
    "#Used the count() function to count the total number of IDs or \"votes\"\n",
    "ed_ID.count()\n"
   ]
  },
  {
   "cell_type": "code",
   "execution_count": 10,
   "id": "79b67754",
   "metadata": {},
   "outputs": [],
   "source": [
    "#creating a data fram for Candidate column\n",
    "ed_Cand = ed_df['Candidate']"
   ]
  },
  {
   "cell_type": "code",
   "execution_count": 13,
   "id": "7e9c63f2",
   "metadata": {},
   "outputs": [
    {
     "data": {
      "text/plain": [
       "85213"
      ]
     },
     "execution_count": 13,
     "metadata": {},
     "output_type": "execute_result"
    }
   ],
   "source": [
    "#counting the number of votes for Charles\n",
    "ed_Cand.value_counts()['Charles Casper Stockham']"
   ]
  },
  {
   "cell_type": "code",
   "execution_count": 14,
   "id": "b4d6ebd6",
   "metadata": {},
   "outputs": [
    {
     "data": {
      "text/plain": [
       "272892"
      ]
     },
     "execution_count": 14,
     "metadata": {},
     "output_type": "execute_result"
    }
   ],
   "source": [
    "#counting the number of votes for Diana\n",
    "ed_Cand.value_counts()['Diana DeGette']"
   ]
  },
  {
   "cell_type": "code",
   "execution_count": 15,
   "id": "0b3f33de",
   "metadata": {},
   "outputs": [
    {
     "data": {
      "text/plain": [
       "11606"
      ]
     },
     "execution_count": 15,
     "metadata": {},
     "output_type": "execute_result"
    }
   ],
   "source": [
    "#counting the number of votes for Raymon\n",
    "ed_Cand.value_counts()['Raymon Anthony Doane']"
   ]
  },
  {
   "cell_type": "code",
   "execution_count": 77,
   "id": "edebd75e",
   "metadata": {},
   "outputs": [],
   "source": [
    "#calculating what percent of the votes are Charles\n",
    "CCSpercent = (ed_Cand.value_counts()['Charles Casper Stockham'])/(ed_ID.count())*100"
   ]
  },
  {
   "cell_type": "code",
   "execution_count": 95,
   "id": "16862409",
   "metadata": {},
   "outputs": [],
   "source": [
    "#calculating what percent of the votes are Diana\n",
    "DDpercent = (ed_Cand.value_counts()['Diana DeGette'])/(ed_ID.count())*100"
   ]
  },
  {
   "cell_type": "code",
   "execution_count": 97,
   "id": "7691261a",
   "metadata": {},
   "outputs": [],
   "source": [
    "#calculating what percent of the votes are Raymon\n",
    "RADpercent = (ed_Cand.value_counts()['Raymon Anthony Doane'])/(ed_ID.count())*100"
   ]
  },
  {
   "cell_type": "code",
   "execution_count": 215,
   "id": "b5b64f9f",
   "metadata": {},
   "outputs": [],
   "source": [
    "#created a Data Frame for voting percentages\n",
    "election = pd.DataFrame({\"Charles Casper Stockham\" : [CCSpercent],\n",
    "                           \"Diana DeGette\" : [DDpercent],\n",
    "                           \"Raymon Anthony Doane\" : [RADpercent]}, index=[1])                "
   ]
  },
  {
   "cell_type": "code",
   "execution_count": 216,
   "id": "3483dc91",
   "metadata": {},
   "outputs": [],
   "source": [
    "#determined winner by using the idxmax function and then formatted into a list\n",
    "winner = election.idxmax(1)\n",
    "Winner = list(winner)\n",
    "\n",
    "\n"
   ]
  },
  {
   "cell_type": "code",
   "execution_count": 217,
   "id": "fefc8ebb",
   "metadata": {},
   "outputs": [],
   "source": [
    "#summarizing the results\n",
    "EResults = f'''Election Results\n",
    "-------------------------------------\n",
    "\n",
    "Total Votes: {ed_ID.count()}\n",
    "\n",
    "-------------------------------------\n",
    "\n",
    "Charles Casper Stockham: {CCSpercent.round(3)}% ({ed_Cand.value_counts()['Charles Casper Stockham']})\n",
    "\n",
    "Diana DeGette: {DDpercent.round(3)}% ({ed_Cand.value_counts()['Diana DeGette']})\n",
    "\n",
    "Raymon Anthony Doane: {RADpercent.round(3)}% ({ed_Cand.value_counts()['Raymon Anthony Doane']})\n",
    "\n",
    "-------------------------------------\n",
    "\n",
    "Winner: {Winner}\n",
    "\n",
    "-------------------------------------\n",
    "'''"
   ]
  },
  {
   "cell_type": "code",
   "execution_count": 214,
   "id": "cea77ff8",
   "metadata": {},
   "outputs": [],
   "source": [
    "#exporting to text file\n",
    "txtfile = open(\"PyPollResults.txt\", \"a\")\n",
    "\n",
    "txtfile.write(EResults)\n",
    "txtfile.close()"
   ]
  },
  {
   "cell_type": "code",
   "execution_count": null,
   "id": "a2b6dd31",
   "metadata": {},
   "outputs": [],
   "source": []
  }
 ],
 "metadata": {
  "kernelspec": {
   "display_name": "Python 3 (ipykernel)",
   "language": "python",
   "name": "python3"
  },
  "language_info": {
   "codemirror_mode": {
    "name": "ipython",
    "version": 3
   },
   "file_extension": ".py",
   "mimetype": "text/x-python",
   "name": "python",
   "nbconvert_exporter": "python",
   "pygments_lexer": "ipython3",
   "version": "3.11.4"
  }
 },
 "nbformat": 4,
 "nbformat_minor": 5
}
