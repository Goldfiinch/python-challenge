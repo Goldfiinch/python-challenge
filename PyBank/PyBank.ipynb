{
 "cells": [
  {
   "cell_type": "code",
   "execution_count": 6,
   "id": "0d0f9e11",
   "metadata": {},
   "outputs": [],
   "source": [
    "import pandas as pd"
   ]
  },
  {
   "cell_type": "code",
   "execution_count": 7,
   "id": "d12bfaf2",
   "metadata": {},
   "outputs": [],
   "source": [
    "from pathlib import Path"
   ]
  },
  {
   "cell_type": "code",
   "execution_count": 8,
   "id": "b76f832d",
   "metadata": {},
   "outputs": [],
   "source": [
    "#import data from Resources folder\n",
    "budget_data = Path(\"Resources/budget_data.csv\")"
   ]
  },
  {
   "cell_type": "code",
   "execution_count": 9,
   "id": "aa31e79d",
   "metadata": {},
   "outputs": [],
   "source": [
    "bd_df = pd.read_csv(budget_data)"
   ]
  },
  {
   "cell_type": "code",
   "execution_count": 10,
   "id": "153f48e6",
   "metadata": {},
   "outputs": [],
   "source": [
    "#creating a data frame for the 'Date' column\n",
    "bd_Date = bd_df['Date']\n"
   ]
  },
  {
   "cell_type": "code",
   "execution_count": 11,
   "id": "1a0a49ae",
   "metadata": {},
   "outputs": [
    {
     "data": {
      "text/plain": [
       "86"
      ]
     },
     "execution_count": 11,
     "metadata": {},
     "output_type": "execute_result"
    }
   ],
   "source": [
    "#counting the number of dates or \"months\"\n",
    "bd_Date.count()"
   ]
  },
  {
   "cell_type": "code",
   "execution_count": 12,
   "id": "bb92186d",
   "metadata": {},
   "outputs": [],
   "source": [
    "#creating a data fram for the 'Profit/Losses' column\n",
    "bd_PL = bd_df['Profit/Losses']"
   ]
  },
  {
   "cell_type": "code",
   "execution_count": 28,
   "id": "b57a9529",
   "metadata": {},
   "outputs": [
    {
     "data": {
      "text/plain": [
       "22564198"
      ]
     },
     "execution_count": 28,
     "metadata": {},
     "output_type": "execute_result"
    }
   ],
   "source": [
    "#summing the profits & losses\n",
    "bd_PL.sum()"
   ]
  },
  {
   "cell_type": "code",
   "execution_count": 30,
   "id": "3ab8b893",
   "metadata": {},
   "outputs": [],
   "source": [
    "#created a new column and named it 'Net_Change'\n",
    "bd_df = bd_df.rename(columns={'new_column': 'Net_Change'})"
   ]
  },
  {
   "cell_type": "code",
   "execution_count": 53,
   "id": "1ea8efe4",
   "metadata": {},
   "outputs": [],
   "source": [
    "#finding the difference between the values, or \"Net Change\"\n",
    "bd_NC = bd_PL.diff()"
   ]
  },
  {
   "cell_type": "code",
   "execution_count": 54,
   "id": "82ed76fe",
   "metadata": {},
   "outputs": [],
   "source": [
    "#dropping any N/A values\n",
    "bd_NC = bd_NC.dropna(how='any')"
   ]
  },
  {
   "cell_type": "code",
   "execution_count": 55,
   "id": "ff91fd9d",
   "metadata": {},
   "outputs": [],
   "source": [
    "#formatting as integer\n",
    "bd_NC = bd_NC.astype('int')"
   ]
  },
  {
   "cell_type": "code",
   "execution_count": 56,
   "id": "3dc7de0d",
   "metadata": {},
   "outputs": [
    {
     "data": {
      "text/plain": [
       "-8311.11"
      ]
     },
     "execution_count": 56,
     "metadata": {},
     "output_type": "execute_result"
    }
   ],
   "source": [
    "#finding the mean & rounding to two decimal places\n",
    "bd_NC.mean().round(2)"
   ]
  },
  {
   "cell_type": "code",
   "execution_count": 57,
   "id": "a9409f19",
   "metadata": {},
   "outputs": [
    {
     "data": {
      "text/plain": [
       "1862002"
      ]
     },
     "execution_count": 57,
     "metadata": {},
     "output_type": "execute_result"
    }
   ],
   "source": [
    "#finding the max Net Change\n",
    "bd_NC.max()"
   ]
  },
  {
   "cell_type": "code",
   "execution_count": 59,
   "id": "7ad1c9d4",
   "metadata": {},
   "outputs": [
    {
     "data": {
      "text/plain": [
       "-1825558"
      ]
     },
     "execution_count": 59,
     "metadata": {},
     "output_type": "execute_result"
    }
   ],
   "source": [
    "#finding the min Net Change\n",
    "bd_NC.min()"
   ]
  },
  {
   "cell_type": "code",
   "execution_count": 60,
   "id": "786df766",
   "metadata": {},
   "outputs": [],
   "source": [
    "#summarizing the results\n",
    "results = f''' Financial Analysis\n",
    "------------------------------\n",
    "Total Months: {bd_Date.count()}\n",
    "Total: ${bd_PL.sum()}\n",
    "Average Change: ${bd_NC.mean().round(2)}\n",
    "Greatest Increase in Profits: Aug-16 ({bd_NC.max()})\n",
    "Greatest Decrease in Profits: Feb-14 ({bd_NC.min()})\n",
    "\n",
    "'''\n",
    "\n"
   ]
  },
  {
   "cell_type": "code",
   "execution_count": 62,
   "id": "f2e09e0b",
   "metadata": {},
   "outputs": [],
   "source": [
    "#exporting to text file\n",
    "txtfile = open(\"PyBankResults.txt\", \"a\")\n",
    "\n",
    "txtfile.write(results)\n",
    "txtfile.close()"
   ]
  },
  {
   "cell_type": "code",
   "execution_count": null,
   "id": "8e8828c5",
   "metadata": {},
   "outputs": [],
   "source": []
  },
  {
   "cell_type": "code",
   "execution_count": null,
   "id": "3c3f896a",
   "metadata": {},
   "outputs": [],
   "source": []
  }
 ],
 "metadata": {
  "kernelspec": {
   "display_name": "Python 3 (ipykernel)",
   "language": "python",
   "name": "python3"
  },
  "language_info": {
   "codemirror_mode": {
    "name": "ipython",
    "version": 3
   },
   "file_extension": ".py",
   "mimetype": "text/x-python",
   "name": "python",
   "nbconvert_exporter": "python",
   "pygments_lexer": "ipython3",
   "version": "3.11.4"
  }
 },
 "nbformat": 4,
 "nbformat_minor": 5
}
