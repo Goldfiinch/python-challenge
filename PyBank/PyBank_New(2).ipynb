{
 "cells": [
  {
   "cell_type": "code",
   "execution_count": 1,
   "id": "b5ab7ec6",
   "metadata": {},
   "outputs": [],
   "source": [
    "import os\n",
    "import csv"
   ]
  },
  {
   "cell_type": "code",
   "execution_count": 2,
   "id": "8f840005",
   "metadata": {},
   "outputs": [],
   "source": [
    "from pathlib import Path"
   ]
  },
  {
   "cell_type": "code",
   "execution_count": 6,
   "id": "2d08e8e8",
   "metadata": {},
   "outputs": [],
   "source": [
    "csvbudget = Path(\"budget_data.csv\")"
   ]
  },
  {
   "cell_type": "code",
   "execution_count": 7,
   "id": "02fa6fd2",
   "metadata": {},
   "outputs": [],
   "source": [
    "# creating empty lists to put the csv data in. \n",
    "data_list = []\n",
    "months = []\n",
    "profit_loss = []"
   ]
  },
  {
   "cell_type": "code",
   "execution_count": 8,
   "id": "eb86c072",
   "metadata": {},
   "outputs": [],
   "source": [
    "# opening the csv file and adding the columns into their respective data lists. \n",
    "with open(csvbudget, encoding='utf') as csvbudget:\n",
    "    budget_data = csv.reader(csvbudget, delimiter=\",\")\n",
    "    for row in budget_data:\n",
    "        data_list.append(row)\n",
    "        # seperated the months column\n",
    "        months.append(row[0])\n",
    "        # seperated the profit & loss column\n",
    "        profit_loss.append(row[1])"
   ]
  },
  {
   "cell_type": "code",
   "execution_count": 9,
   "id": "c6ca49cb",
   "metadata": {},
   "outputs": [],
   "source": [
    "# removing the headers from the data lists. \n",
    "months.remove(\"Date\")\n",
    "profit_loss.remove(\"Profit/Losses\")"
   ]
  },
  {
   "cell_type": "code",
   "execution_count": 10,
   "id": "1377ac2a",
   "metadata": {},
   "outputs": [],
   "source": [
    "# counting the total months. \n",
    "total_months = len(months)"
   ]
  },
  {
   "cell_type": "code",
   "execution_count": 11,
   "id": "5e6b8852",
   "metadata": {},
   "outputs": [],
   "source": [
    "# have to convert profit/losses column into integers before summing. \n",
    "for i in range(0, len(profit_loss)):\n",
    "    profit_loss[i] = int(profit_loss[i])"
   ]
  },
  {
   "cell_type": "code",
   "execution_count": 12,
   "id": "53d0c483",
   "metadata": {},
   "outputs": [],
   "source": [
    "profit_loss_sum = sum(profit_loss)"
   ]
  },
  {
   "cell_type": "code",
   "execution_count": 13,
   "id": "6f0b3e6b",
   "metadata": {},
   "outputs": [],
   "source": [
    "# using the recursvie method to find the average difference between the profit/losses data. \n",
    "def difference(profit_loss):\n",
    "    if len(profit_loss) <= 1:\n",
    "        return []\n",
    "    else:\n",
    "        return [profit_loss[1] - profit_loss[0]] + difference(profit_loss[1:])"
   ]
  },
  {
   "cell_type": "code",
   "execution_count": 14,
   "id": "2cb05ee6",
   "metadata": {},
   "outputs": [],
   "source": [
    "# assigning a variable to difference(profit_loss) for ease of use. \n",
    "pl_diff = difference(profit_loss)"
   ]
  },
  {
   "cell_type": "code",
   "execution_count": 15,
   "id": "686a9d77",
   "metadata": {},
   "outputs": [],
   "source": [
    "# Calculating average change.\n",
    "avgchange = sum(pl_diff)/len(pl_diff)"
   ]
  },
  {
   "cell_type": "code",
   "execution_count": 16,
   "id": "94fc29ce",
   "metadata": {},
   "outputs": [],
   "source": [
    "# rounding the average change integer to two decimal places. \n",
    "avgchange = round(avgchange, 2)"
   ]
  },
  {
   "cell_type": "code",
   "execution_count": 17,
   "id": "08f7fd07",
   "metadata": {},
   "outputs": [],
   "source": [
    "# found the biggest increase in profit/losses.\n",
    "max_increase_pl = max(pl_diff)"
   ]
  },
  {
   "cell_type": "code",
   "execution_count": 18,
   "id": "1e7c4984",
   "metadata": {},
   "outputs": [],
   "source": [
    "# found the index of the bidggest increase.\n",
    "max_increase_index = pl_diff.index(max(pl_diff))"
   ]
  },
  {
   "cell_type": "code",
   "execution_count": 19,
   "id": "47c5e34d",
   "metadata": {},
   "outputs": [],
   "source": [
    "# found the coressponding date, had to add 1 to the index to match the date correctly.\n",
    "max_increase_date = months[(max_increase_index+1)]"
   ]
  },
  {
   "cell_type": "code",
   "execution_count": 20,
   "id": "4c20429a",
   "metadata": {},
   "outputs": [],
   "source": [
    "# converting into string.\n",
    "max_increase_pl = str(max_increase_pl)"
   ]
  },
  {
   "cell_type": "code",
   "execution_count": 21,
   "id": "23da2427",
   "metadata": {},
   "outputs": [],
   "source": [
    "max_increase_date_pl = (max_increase_date + \" \" + \"($\" + max_increase_pl + \")\")"
   ]
  },
  {
   "cell_type": "code",
   "execution_count": 22,
   "id": "85d970c9",
   "metadata": {},
   "outputs": [],
   "source": [
    "# found the biggest increase in profit/losses.\n",
    "max_decrease_pl = min(pl_diff)"
   ]
  },
  {
   "cell_type": "code",
   "execution_count": 23,
   "id": "de2ab71a",
   "metadata": {},
   "outputs": [],
   "source": [
    "# found the index of the bidggest increase.\n",
    "max_decrease_index = pl_diff.index(min(pl_diff))"
   ]
  },
  {
   "cell_type": "code",
   "execution_count": 24,
   "id": "ac456f6e",
   "metadata": {},
   "outputs": [],
   "source": [
    "# found the coressponding date, had to add 1 to the index to match the date correctly.\n",
    "max_decrease_date = months[(max_decrease_index+1)]"
   ]
  },
  {
   "cell_type": "code",
   "execution_count": 25,
   "id": "6fb180cf",
   "metadata": {},
   "outputs": [],
   "source": [
    "# converting into string.\n",
    "max_decrease_pl = str(max_decrease_pl)"
   ]
  },
  {
   "cell_type": "code",
   "execution_count": 26,
   "id": "4d90e8f1",
   "metadata": {},
   "outputs": [],
   "source": [
    "max_decrease_date_pl = (max_decrease_date + \" \" + \"($\" + max_decrease_pl + \")\")"
   ]
  },
  {
   "cell_type": "code",
   "execution_count": 27,
   "id": "105a0adc",
   "metadata": {},
   "outputs": [],
   "source": [
    "budget_results = (f'''\n",
    "----------------------------\n",
    "                    \n",
    "Financial Analysis\n",
    "\n",
    "----------------------------\n",
    "      \n",
    "Total Months: {total_months}\n",
    "\n",
    "Total: ${profit_loss_sum}\n",
    "\n",
    "Average Change: ${avgchange}\n",
    "\n",
    "Greatest Increase in Profits: {max_increase_date_pl}\n",
    "\n",
    "Greatest Decrease in Profits: {max_decrease_date_pl}\n",
    "---------------------------\n",
    "''')"
   ]
  },
  {
   "cell_type": "code",
   "execution_count": 28,
   "id": "129ec67c",
   "metadata": {},
   "outputs": [
    {
     "name": "stdout",
     "output_type": "stream",
     "text": [
      "\n",
      "----------------------------\n",
      "                    \n",
      "Financial Analysis\n",
      "\n",
      "----------------------------\n",
      "      \n",
      "Total Months: 86\n",
      "\n",
      "Total: $22564198\n",
      "\n",
      "Average Change: $-8311.11\n",
      "\n",
      "Greatest Increase in Profits: Aug-16 ($1862002)\n",
      "\n",
      "Greatest Decrease in Profits: Feb-14 ($-1825558)\n",
      "---------------------------\n",
      "\n"
     ]
    }
   ],
   "source": [
    "print(budget_results)"
   ]
  },
  {
   "cell_type": "code",
   "execution_count": 32,
   "id": "73460ef9",
   "metadata": {},
   "outputs": [],
   "source": [
    "#exporting to text file\n",
    "txtfile = open(\"PyBankResults.txt\", \"a\")"
   ]
  },
  {
   "cell_type": "code",
   "execution_count": 33,
   "id": "6a5dfc1e",
   "metadata": {},
   "outputs": [],
   "source": [
    "txtfile.write(budget_results)\n",
    "txtfile.close()"
   ]
  },
  {
   "cell_type": "code",
   "execution_count": null,
   "id": "4da54c05",
   "metadata": {},
   "outputs": [],
   "source": []
  }
 ],
 "metadata": {
  "kernelspec": {
   "display_name": "Python 3 (ipykernel)",
   "language": "python",
   "name": "python3"
  },
  "language_info": {
   "codemirror_mode": {
    "name": "ipython",
    "version": 3
   },
   "file_extension": ".py",
   "mimetype": "text/x-python",
   "name": "python",
   "nbconvert_exporter": "python",
   "pygments_lexer": "ipython3",
   "version": "3.11.4"
  }
 },
 "nbformat": 4,
 "nbformat_minor": 5
}
